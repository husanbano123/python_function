{
 "cells": [
  {
   "cell_type": "code",
   "execution_count": 1,
   "id": "99984fb8",
   "metadata": {},
   "outputs": [
    {
     "data": {
      "text/plain": [
       "'Program to Calculate BMI  weight (kg) / height m squareb\\nWrite a Python program to check whether a string is numeric.\\nWrite a Python program to check whether a string contains number.   # USE REGEX\\nProgram to sum all numbers in List use for loop\\nWrite a Python program to find the second largest number in a list.\\n'"
      ]
     },
     "execution_count": 1,
     "metadata": {},
     "output_type": "execute_result"
    }
   ],
   "source": [
    "'''Program to Calculate BMI  weight (kg) / height m squareb\n",
    "Write a Python program to check whether a string is numeric.\n",
    "Write a Python program to check whether a string contains number.   # USE REGEX\n",
    "Program to sum all numbers in List use for loop\n",
    "Write a Python program to find the second largest number in a list.\n",
    "'''"
   ]
  },
  {
   "cell_type": "code",
   "execution_count": 19,
   "id": "e7f8ce2e",
   "metadata": {},
   "outputs": [
    {
     "name": "stdout",
     "output_type": "stream",
     "text": [
      "Enter any feet: 6\n",
      "Enter any inches: 1\n",
      "Enter weight in kg: 53\n",
      "You are Underweight !!!\n"
     ]
    }
   ],
   "source": [
    "#bmi calculator program bmi=weight(kg)/height(m2) or if height in cm2 then *10000\n",
    "def feet_to_meter(feet,inches):\n",
    "    total_inches=feet*12+inches  #1foot=12 inches\n",
    "    meter = total_inches* 0.0254\n",
    "    return meter\n",
    "\n",
    "def bmi_calculator(weight,height):\n",
    "    bmi=weight/height**2\n",
    "    if bmi<18.5:\n",
    "        print(\"You are Underweight !!!\")\n",
    "    elif 18.5<=bmi<=24.9:\n",
    "        print(\" You are Healthy\")\n",
    "    elif 25<=bmi<=29.9:\n",
    "        print(\"You are Overweight !!! \")\n",
    "    else:\n",
    "        print(\"You are in besity category\")\n",
    "\n",
    "feet=int(input(\"Enter any feet: \"))\n",
    "inches=int(input(\"Enter any inches: \"))\n",
    "height_in_meter=feet_to_meter(feet,inches)\n",
    "\n",
    "weight=float(input(\"Enter weight in kg: \"))\n",
    "#height_in_meter=float(input(\"Enter height in m: \"))\n",
    "\n",
    "bmi_calculator(weight,height_in_meter)  #5'4'' conver into meter then 5/3.28  \n"
   ]
  },
  {
   "cell_type": "code",
   "execution_count": 3,
   "id": "7be22fb5",
   "metadata": {},
   "outputs": [
    {
     "name": "stdout",
     "output_type": "stream",
     "text": [
      "The  string has numeric part   ['123,456.789', '42.42']  which is numeric\n"
     ]
    }
   ],
   "source": [
    "#Write a Python program to check whether a string is numeric.\n",
    "import re\n",
    "def str_is_numeric(pattern,name):\n",
    "   # print(re.findall(pattern,name))\n",
    "    match=re.findall(pattern,name)\n",
    "    if match:\n",
    "        print(\"The  string has numeric part   %r  which is numeric\" %(match))\n",
    "    else:\n",
    "         print(\"The  string  %r is not  numeric\" %(match))\n",
    "    \n",
    "name= \"Hi! My roll no is: 123,456.789 and 42.42\" \n",
    "pattern=r'\\d+(?:,\\d{3})*(?:\\.\\d+)'\n",
    "str_is_numeric(pattern,name)"
   ]
  },
  {
   "cell_type": "code",
   "execution_count": null,
   "id": "74cb3c2a",
   "metadata": {},
   "outputs": [],
   "source": [
    "'''\n",
    "1.*:allows for the possibility of having multiple groups of comma and three digits\n",
    "2.?: -This is a non-capturing group that groups the elements inside without capturing them for back-referencing?\n",
    "3. ?- 0 or 1.\n",
    "4. * - 0 or more\n",
    "5. + - 1 or more\n",
    "6. sd{3} - s followed by 3 d's\n",
    "7.sd{2,3} - s followed by 2 or 3 d's"
   ]
  },
  {
   "cell_type": "code",
   "execution_count": 4,
   "id": "c9143911",
   "metadata": {},
   "outputs": [
    {
     "name": "stdout",
     "output_type": "stream",
     "text": [
      "The  string contains numbers  ['123497694987'] \n"
     ]
    }
   ],
   "source": [
    "#Write a Python program to check whether a string contains number.   # USE REGEX\n",
    "import re\n",
    "def str_is_digit(pattern,text):\n",
    "    match=re.findall(pattern,text)\n",
    "    if match:\n",
    "        print(\"The  string contains numbers  %r \" %(match))\n",
    "    else:\n",
    "         print(\"The  string  %r is not  numeric\" %(match))\n",
    "text=\"hi!.my mobile no is:123497694987\" \n",
    "pattern=r'\\d+'\n",
    "str_is_digit(pattern,text)\n"
   ]
  },
  {
   "cell_type": "code",
   "execution_count": 7,
   "id": "bff47eff",
   "metadata": {},
   "outputs": [
    {
     "name": "stdout",
     "output_type": "stream",
     "text": [
      "The sum of all numbers of list is 346\n"
     ]
    }
   ],
   "source": [
    "#Program to sum all numbers in List use for loop\n",
    "def sum_all_numbers(list1):\n",
    "    for i in list1:\n",
    "         addition=sum(list1)\n",
    "    print(f\"The sum of all numbers of list is {addition}\")\n",
    "       \n",
    "    \n",
    "list1=[12,45,67,88,90,11,33]\n",
    "sum_all_numbers(list1)\n",
    "    "
   ]
  },
  {
   "cell_type": "code",
   "execution_count": 16,
   "id": "95776668",
   "metadata": {},
   "outputs": [
    {
     "data": {
      "text/plain": [
       "89"
      ]
     },
     "execution_count": 16,
     "metadata": {},
     "output_type": "execute_result"
    }
   ],
   "source": [
    "#Write a Python program to find the second largest number in a list.\n",
    "def second_largest_no(l):\n",
    "    list1=list(set(l))\n",
    "    list1.sort()\n",
    "    return list1[-2]\n",
    "    \n",
    "l=[14,89,78,100,67,49]\n",
    "second_largest_no(l)"
   ]
  },
  {
   "cell_type": "code",
   "execution_count": null,
   "id": "5b7c7ed4",
   "metadata": {},
   "outputs": [],
   "source": []
  }
 ],
 "metadata": {
  "kernelspec": {
   "display_name": "Python 3 (ipykernel)",
   "language": "python",
   "name": "python3"
  },
  "language_info": {
   "codemirror_mode": {
    "name": "ipython",
    "version": 3
   },
   "file_extension": ".py",
   "mimetype": "text/x-python",
   "name": "python",
   "nbconvert_exporter": "python",
   "pygments_lexer": "ipython3",
   "version": "3.9.7"
  }
 },
 "nbformat": 4,
 "nbformat_minor": 5
}
